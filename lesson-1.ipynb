{
 "cells": [
  {
   "cell_type": "markdown",
   "id": "d28f126d-f771-404f-9cb0-f0ac0bee7391",
   "metadata": {},
   "source": [
    "# Numpy \n",
    "\n",
    "- one of the core packages for numerical computing in Python\n",
    "- many packages are built on top of numpy\n",
    "- 'numpy' has been optimized for processing: faster due to memory access"
   ]
  },
  {
   "cell_type": "code",
   "execution_count": 1,
   "id": "ce3e57d5-018a-4937-a8fb-269bc4431589",
   "metadata": {
    "tags": []
   },
   "outputs": [],
   "source": [
    "# import Numpy with standard abbreviation\n",
    "\n",
    "import numpy as np"
   ]
  },
  {
   "cell_type": "markdown",
   "id": "dd02e2a2-8c26-4fb8-806e-860fc751487a",
   "metadata": {},
   "source": [
    "# Variables \n",
    "We can think about variables as a name we assign to a particular object in Python. For example: "
   ]
  },
  {
   "cell_type": "code",
   "execution_count": 3,
   "id": "0ce4dd0e-248d-4f01-8883-884c391c43ff",
   "metadata": {
    "tags": []
   },
   "outputs": [],
   "source": [
    "# assign a small array to a variable 'a'\n",
    "a = np.array( [[1,1,2], [3,5,8]])"
   ]
  },
  {
   "cell_type": "markdown",
   "id": "aabad575-2887-42ea-943c-6aaa8daf9705",
   "metadata": {
    "tags": []
   },
   "source": [
    "When we run the cell, we store the variable and its value. We can see the variable value in two ways: "
   ]
  },
  {
   "cell_type": "code",
   "execution_count": 8,
   "id": "9e2024f5-4e45-4f82-bdef-b5a993305d83",
   "metadata": {
    "tags": []
   },
   "outputs": [
    {
     "name": "stdout",
     "output_type": "stream",
     "text": [
      "[[1 1 2]\n",
      " [3 5 8]]\n"
     ]
    },
    {
     "data": {
      "text/plain": [
       "array([[1, 1, 2],\n",
       "       [3, 5, 8]])"
      ]
     },
     "execution_count": 8,
     "metadata": {},
     "output_type": "execute_result"
    }
   ],
   "source": [
    "# 1: \n",
    "print(a)\n",
    "# 2:\n",
    "a"
   ]
  },
  {
   "cell_type": "markdown",
   "id": "49040825-99cc-46e9-a3f9-5fc8b99c575d",
   "metadata": {},
   "source": [
    "## Naming Variables\n",
    "In the class we are going to use 'snake_case' for naming variables. \n",
    "\n",
    "# Variables and Objects\n",
    "object: often encountered in Python documentation and tutorials \n",
    "\n",
    "object is a bundle of properties and actions about something specific \n",
    "\n",
    "Example: \n",
    "-object: data frame\n",
    "-properties: number of rows, names of columns, data created\n",
    "-actions: selecting a row, adding a column \n",
    "\n",
    "A variable is a name we give a specific object, and the same object can be referenced by different variables. \n",
    "\n",
    "Example:\n",
    "-The Sun = object \n",
    "-sol = Spanish word for Sun = variable\n",
    "-soleil = French word for Sun = another variable\n",
    "\n",
    "In practice: we will use object and variable interchangeably "
   ]
  },
  {
   "cell_type": "markdown",
   "id": "1c86c91d-d9e8-45ea-8006-af5279d89b19",
   "metadata": {},
   "source": [
    "# Types\n",
    "\n",
    "Each object in Python has a type. \n",
    "\n",
    "type = what kind of object it is\n",
    "We can also call the type of the object the **class** of the object.\n",
    "\n",
    "We can see the type/class of an object by using the 'type' function:"
   ]
  },
  {
   "cell_type": "code",
   "execution_count": 10,
   "id": "97913539-c02e-47ac-a588-480cda369650",
   "metadata": {
    "tags": []
   },
   "outputs": [
    {
     "name": "stdout",
     "output_type": "stream",
     "text": [
      "[[1 1 2]\n",
      " [3 5 8]]\n"
     ]
    },
    {
     "data": {
      "text/plain": [
       "numpy.ndarray"
      ]
     },
     "execution_count": 10,
     "metadata": {},
     "output_type": "execute_result"
    }
   ],
   "source": [
    "print(a)\n",
    "type(a)\n",
    "\n",
    "# this is telling me the type is a numpy array"
   ]
  },
  {
   "cell_type": "markdown",
   "id": "c82bb939-96a2-4143-93a3-c05be60e13a8",
   "metadata": {},
   "source": [
    "The 'numpy.ndarray' is the core object/data type in the numpy package. We can check the type of an entry in the array by indexing."
   ]
  },
  {
   "cell_type": "code",
   "execution_count": 12,
   "id": "a91633ca-acad-49eb-90d7-fccd2d611ed0",
   "metadata": {
    "tags": []
   },
   "outputs": [
    {
     "name": "stdout",
     "output_type": "stream",
     "text": [
      "1\n"
     ]
    },
    {
     "data": {
      "text/plain": [
       "numpy.int64"
      ]
     },
     "execution_count": 12,
     "metadata": {},
     "output_type": "execute_result"
    }
   ],
   "source": [
    "print(a[0,0])\n",
    "type(a[0,0])\n",
    "#this is saying print the first row and the first column value and find the type"
   ]
  },
  {
   "cell_type": "code",
   "execution_count": 13,
   "id": "6ee5d67c-f318-4d08-852e-63005094fdcb",
   "metadata": {
    "tags": []
   },
   "outputs": [
    {
     "name": "stdout",
     "output_type": "stream",
     "text": [
      "5\n"
     ]
    }
   ],
   "source": [
    "# how do you access the value 5 in the array a? \n",
    "print(a[1,1])"
   ]
  },
  {
   "cell_type": "markdown",
   "id": "35981cd4-6324-41d2-a242-884e1e855668",
   "metadata": {},
   "source": [
    "# Functions \n",
    " 'print' was our first example of a python function\n",
    " \n",
    " A function:\n",
    " -take in a set of **arguments**, separated by commas, and use those arguments to produce some **output**\n",
    " \n",
    " argument = parameter (these can be used to mean the same)\n",
    " \n",
    " We can ask information about a function by executing '?' followed by the function name:"
   ]
  },
  {
   "cell_type": "code",
   "execution_count": 14,
   "id": "50b8ebb6-1bd5-4224-8c74-d5250180f8b9",
   "metadata": {
    "tags": []
   },
   "outputs": [
    {
     "data": {
      "text/plain": [
       "\u001b[0;31mDocstring:\u001b[0m\n",
       "print(value, ..., sep=' ', end='\\n', file=sys.stdout, flush=False)\n",
       "\n",
       "Prints the values to a stream, or to sys.stdout by default.\n",
       "Optional keyword arguments:\n",
       "file:  a file-like object (stream); defaults to the current sys.stdout.\n",
       "sep:   string inserted between values, default a space.\n",
       "end:   string appended after the last value, default a newline.\n",
       "flush: whether to forcibly flush the stream.\n",
       "\u001b[0;31mType:\u001b[0m      builtin_function_or_method\n"
      ]
     },
     "metadata": {},
     "output_type": "display_data"
    }
   ],
   "source": [
    "?print"
   ]
  },
  {
   "cell_type": "markdown",
   "id": "55389429-c148-4f64-8b61-aa9eeaacd0af",
   "metadata": {},
   "source": [
    "-first line: function showing all of its arguments in paranthesis\n",
    "-then a short description of what the function does\n",
    "-finally, a list of the arguments and a brief explanation of each of them\n",
    "\n",
    "Different types of arguments inside the parenthesis. Roughly speaking, there are two types of arguments:\n",
    "\n",
    "-**non-optional arguments**: arguments you need to specify for the function to do something\n",
    "\n",
    "-**optional arguments**: arguments that are pre-filled with a default value by teh function, but we can override them. Optional arguments appear inside the parenthesis () in the form\n",
    "\n",
    "'optional argument = default_value'"
   ]
  },
  {
   "cell_type": "code",
   "execution_count": 15,
   "id": "9d3f6790-6d25-43b3-9cc7-53d8e84756e4",
   "metadata": {
    "tags": []
   },
   "outputs": [
    {
     "name": "stdout",
     "output_type": "stream",
     "text": [
      "changing the default end argument of the print function:)"
     ]
    }
   ],
   "source": [
    "print('changing the default end argument of the print function', end= ':)')"
   ]
  },
  {
   "cell_type": "markdown",
   "id": "b5836ebc-eb1d-4184-8794-772e68d2ae13",
   "metadata": {},
   "source": [
    "# Attributes & Methods\n",
    "\n",
    "An object in Python has attributes and methods. \n",
    "\n",
    "-**attribute** is a property of an object, a piece of information about the object. \n",
    "\n",
    "-**method** is a procedure associated with an object, an action where the main ingredient is the object itself.\n",
    "\n",
    "ex: A fish. Attributes = weight, scale_colors, species Methods = swim(), eat(), jump()\n",
    "\n",
    "Access a variable's attributes and methods by adding a period '.' at the end of the variable's name. \n",
    "'variable_name.variable_method()' or \n",
    "'variable_name.variable_attribute'\n",
    "\n",
    "Examples:\n",
    "Methods and attributes of Numpy arrays:"
   ]
  },
  {
   "cell_type": "code",
   "execution_count": 2,
   "id": "979f0bf6-fed9-4761-b9e1-0ab40f10e15e",
   "metadata": {
    "tags": []
   },
   "outputs": [],
   "source": [
    "import numpy as np"
   ]
  },
  {
   "cell_type": "code",
   "execution_count": 3,
   "id": "503a8ebf-3039-4fba-9e55-d33ef07b0a4d",
   "metadata": {
    "tags": []
   },
   "outputs": [
    {
     "data": {
      "text/plain": [
       "array([[1, 2, 3],\n",
       "       [4, 5, 6],\n",
       "       [7, 8, 9]])"
      ]
     },
     "execution_count": 3,
     "metadata": {},
     "output_type": "execute_result"
    }
   ],
   "source": [
    "#define a 3x3 array \n",
    "var = np.array( [ [1,2,3], [4,5,6], [7,8,9] ] )\n",
    "var"
   ]
  },
  {
   "cell_type": "code",
   "execution_count": 4,
   "id": "f22c2f81-4294-415b-9ae2-9153c2daecc4",
   "metadata": {
    "tags": []
   },
   "outputs": [
    {
     "data": {
      "text/plain": [
       "(3, 3)"
      ]
     },
     "execution_count": 4,
     "metadata": {},
     "output_type": "execute_result"
    }
   ],
   "source": [
    "# shape: attribute telling us the number of elements in each dimension of hte array \n",
    "var.shape"
   ]
  },
  {
   "cell_type": "code",
   "execution_count": 5,
   "id": "e3186ffc-1c05-4dbc-800e-2265656b98f5",
   "metadata": {
    "tags": []
   },
   "outputs": [
    {
     "data": {
      "text/plain": [
       "tuple"
      ]
     },
     "execution_count": 5,
     "metadata": {},
     "output_type": "execute_result"
    }
   ],
   "source": [
    "type(var.shape)"
   ]
  },
  {
   "cell_type": "code",
   "execution_count": 6,
   "id": "616aa655-bf0c-4587-8674-13f96690b47d",
   "metadata": {
    "tags": []
   },
   "outputs": [
    {
     "data": {
      "text/plain": [
       "2"
      ]
     },
     "execution_count": 6,
     "metadata": {},
     "output_type": "execute_result"
    }
   ],
   "source": [
    "#ndim is an attribute holding the number of array dimensions\n",
    "var.ndim"
   ]
  },
  {
   "cell_type": "code",
   "execution_count": 7,
   "id": "ea2a64a6-8a01-4be8-9d4d-c3b79b10f737",
   "metadata": {
    "collapsed": true,
    "jupyter": {
     "outputs_hidden": true
    },
    "tags": []
   },
   "outputs": [
    {
     "data": {
      "text/plain": [
       "int"
      ]
     },
     "execution_count": 7,
     "metadata": {},
     "output_type": "execute_result"
    }
   ],
   "source": [
    "type(var.ndim)"
   ]
  },
  {
   "cell_type": "markdown",
   "id": "f96811ef-e611-4260-8e60-af1e85bcf8b4",
   "metadata": {},
   "source": [
    "Notice attributes can have many different data types. \n",
    "Examples of methods:"
   ]
  },
  {
   "cell_type": "code",
   "execution_count": 8,
   "id": "c83efb54-6060-4824-adb9-be936e684f41",
   "metadata": {
    "tags": []
   },
   "outputs": [
    {
     "data": {
      "text/plain": [
       "1"
      ]
     },
     "execution_count": 8,
     "metadata": {},
     "output_type": "execute_result"
    }
   ],
   "source": [
    "#min method for array. this returns the minimum value in the array \n",
    "var.min()"
   ]
  },
  {
   "cell_type": "code",
   "execution_count": 9,
   "id": "931f2cff-9ee4-4de9-aeb0-1602b4c00272",
   "metadata": {
    "tags": []
   },
   "outputs": [
    {
     "data": {
      "text/plain": [
       "builtin_function_or_method"
      ]
     },
     "execution_count": 9,
     "metadata": {},
     "output_type": "execute_result"
    }
   ],
   "source": [
    "type(var.min)"
   ]
  },
  {
   "cell_type": "markdown",
   "id": "efcb7c30-04da-48c9-8996-6b303ad75541",
   "metadata": {},
   "source": [
    "# R & Python Comparison\n",
    "R:\n",
    "-doesn't use methods within an object \n",
    "-functions in R are extrinisic to (outside) the objects they are acting on\n",
    "\n",
    "Example: recreate getting the min value in an array \n",
    "In R there would be two separate items: the variable 'var' and a *separate* function 'min' that gets 'var' as a parameter:\n",
    "\n",
    "```\n",
    "#this is R code of our same array we created previously\n",
    "var <- array(c(1,4,7,2,5,8,3,6,9), dim = c(3,3))\n",
    "min(var)\n",
    "```\n",
    "\n",
    "Using the pipe operator >%> in R's tidyverse, this is closer to the '.' in Python: \n",
    "```\n",
    "var >%> min()\n",
    "```\n",
    "What is happening? \n",
    "The pipe '>%>' is passing 'var' to the 'min()' as it's first argument. This is essentially what the period '.' does in Python:\n",
    "```\n",
    "var.min()\n",
    "```"
   ]
  }
 ],
 "metadata": {
  "kernelspec": {
   "display_name": "Anaconda 3 (Base)",
   "language": "python",
   "name": "base"
  },
  "language_info": {
   "codemirror_mode": {
    "name": "ipython",
    "version": 3
   },
   "file_extension": ".py",
   "mimetype": "text/x-python",
   "name": "python",
   "nbconvert_exporter": "python",
   "pygments_lexer": "ipython3",
   "version": "3.9.13"
  }
 },
 "nbformat": 4,
 "nbformat_minor": 5
}
