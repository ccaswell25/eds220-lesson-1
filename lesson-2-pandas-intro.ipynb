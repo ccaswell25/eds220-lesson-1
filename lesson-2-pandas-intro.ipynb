{
 "cells": [
  {
   "cell_type": "markdown",
   "id": "e0a76c10-0ffa-4de2-9e8a-392c8da647c3",
   "metadata": {},
   "source": [
    "# Objectives:\n",
    "-Review core 'pandas' objects: 'pandas.Series' and 'pandas.DataFrame'\n",
    "\n",
    "# 'Pandas'\n",
    "\n",
    "-Python package to wrangle and analyze tabular data \n",
    "-built on top of NumPy\n",
    "-core tool for data analysis in Python"
   ]
  },
  {
   "cell_type": "code",
   "execution_count": 1,
   "id": "4259e7e7-4deb-474c-a5f7-a3b857aad7cb",
   "metadata": {
    "tags": []
   },
   "outputs": [],
   "source": [
    "import pandas as pd \n",
    "import numpy as np "
   ]
  },
  {
   "cell_type": "markdown",
   "id": "783a37a0-25ed-4fbd-b54b-16cfbf8db638",
   "metadata": {},
   "source": [
    "# Series \n",
    "\n",
    "a 'pandas.Series':\n",
    "-is one of the core data structures in 'pandas'\n",
    "-a 1-dimensional array of *indexed* data \n",
    "-will be the columns of the 'pandas.DataFrame'\n",
    "\n",
    "# Creating a pandas Series \n",
    "\n",
    "Several ways of creating a pandas Series. \n",
    "For now, we will create series using:\n",
    "```\n",
    "s = pd.Series(data, index=index)\n",
    "```\n",
    "- 'data' = numpy array (or a list of objects that can be converted to NumPy types)\n",
    "- 'index' = a list of indices of same length as data"
   ]
  },
  {
   "cell_type": "code",
   "execution_count": 2,
   "id": "7b3f0376-0d2a-4ca2-997c-11fd20be2e44",
   "metadata": {
    "tags": []
   },
   "outputs": [
    {
     "data": {
      "text/plain": [
       "array([0, 1, 2])"
      ]
     },
     "execution_count": 2,
     "metadata": {},
     "output_type": "execute_result"
    }
   ],
   "source": [
    "#Ex: a pandas series from a numpy array \n",
    "#np.arange() function constructs an array of consecutive integers \n",
    "np.arange(3)"
   ]
  },
  {
   "cell_type": "code",
   "execution_count": 5,
   "id": "fd09e84c-35d9-49b9-837a-c2ecd98f4084",
   "metadata": {
    "tags": []
   },
   "outputs": [
    {
     "data": {
      "text/plain": [
       "a    0\n",
       "b    1\n",
       "c    2\n",
       "dtype: int64"
      ]
     },
     "execution_count": 5,
     "metadata": {},
     "output_type": "execute_result"
    }
   ],
   "source": [
    "# we can use this to create a pandas series\n",
    "pd.Series(np.arange(3), index=['a', 'b', 'c'])"
   ]
  },
  {
   "cell_type": "markdown",
   "id": "4bc26ff3-ceb5-41b6-a52c-0024c737fca3",
   "metadata": {},
   "source": [
    "What kind of parameter is 'index'?\n",
    "Answer: an optional parameter, there is a default value to it.\n",
    "If we don't specify 'index', the default is to start the index from 0:\n",
    "example: "
   ]
  },
  {
   "cell_type": "code",
   "execution_count": 6,
   "id": "861ad477-13bf-447f-a65e-ecafda4df8a5",
   "metadata": {
    "tags": []
   },
   "outputs": [
    {
     "data": {
      "text/plain": [
       "0    EDS 220\n",
       "1    EDS 222\n",
       "2    EDS 223\n",
       "3    EDS 242\n",
       "dtype: object"
      ]
     },
     "execution_count": 6,
     "metadata": {},
     "output_type": "execute_result"
    }
   ],
   "source": [
    "#Create a series from a list of strings with default index\n",
    "pd.Series(['EDS 220', 'EDS 222', 'EDS 223', 'EDS 242'])"
   ]
  },
  {
   "cell_type": "code",
   "execution_count": null,
   "id": "8407ce4c-0356-4744-8ef6-3c33a0f64148",
   "metadata": {},
   "outputs": [],
   "source": [
    "#Operations of Series \n",
    "\n",
    "Arithmetic operations work on series on also most NumPy functions.\n",
    "\n",
    "Example:\n",
    "    "
   ]
  },
  {
   "cell_type": "code",
   "execution_count": 9,
   "id": "cb60c62e-adf4-4247-ab44-1f1947de394f",
   "metadata": {
    "tags": []
   },
   "outputs": [
    {
     "name": "stdout",
     "output_type": "stream",
     "text": [
      "Andrea      9.8\n",
      "Beth        7.3\n",
      "Carolina    6.5\n",
      "dtype: float64\n"
     ]
    }
   ],
   "source": [
    "#define a series:\n",
    "s = pd.Series([98, 73, 65], index = ['Andrea', 'Beth', 'Carolina'])\n",
    "\n",
    "#divide each element by 10:\n",
    "print(s/10)"
   ]
  },
  {
   "cell_type": "markdown",
   "id": "e1c381b5-4d4f-4fd2-997f-5ce104353e30",
   "metadata": {},
   "source": [
    "Example: create a new series with 'True'/'False' values indicating whether the lengths in the series satisfy a condition or not "
   ]
  },
  {
   "cell_type": "code",
   "execution_count": 10,
   "id": "f0e546e7-53f4-43a1-a9a4-532597ecfcc5",
   "metadata": {
    "tags": []
   },
   "outputs": [
    {
     "data": {
      "text/plain": [
       "Andrea       True\n",
       "Beth         True\n",
       "Carolina    False\n",
       "dtype: bool"
      ]
     },
     "execution_count": 10,
     "metadata": {},
     "output_type": "execute_result"
    }
   ],
   "source": [
    "s>70"
   ]
  },
  {
   "cell_type": "markdown",
   "id": "ae5305e5-a146-4c35-9aea-5994cb87774b",
   "metadata": {},
   "source": [
    "Simple but important!! Using conditions on Series is key to selecting data from dataframes! "
   ]
  },
  {
   "cell_type": "markdown",
   "id": "9032ba23-6ffc-4e60-b178-ce52c2f852b1",
   "metadata": {
    "tags": []
   },
   "source": [
    "## Attributes & Methods \n",
    "Two examples about idenfitfying missing values...\n",
    "\n",
    "-missing valeus in 'pandas' are represented by 'np.Nan' = not a number \n",
    "\n",
    "-'NaN' is a type of float in numpy "
   ]
  },
  {
   "cell_type": "code",
   "execution_count": 12,
   "id": "d1c3304e-5d78-4969-963e-73ea65d6dc93",
   "metadata": {
    "tags": []
   },
   "outputs": [
    {
     "data": {
      "text/plain": [
       "nan"
      ]
     },
     "execution_count": 12,
     "metadata": {},
     "output_type": "execute_result"
    }
   ],
   "source": [
    "np.NaN"
   ]
  },
  {
   "cell_type": "code",
   "execution_count": 13,
   "id": "7711ed7b-df70-4e90-8b7b-8a476f7ada51",
   "metadata": {
    "tags": []
   },
   "outputs": [
    {
     "data": {
      "text/plain": [
       "float"
      ]
     },
     "execution_count": 13,
     "metadata": {},
     "output_type": "execute_result"
    }
   ],
   "source": [
    "type(np.NaN)"
   ]
  },
  {
   "cell_type": "code",
   "execution_count": 14,
   "id": "ad28cdc0-b02d-43e4-a0ab-21b0d3af4354",
   "metadata": {
    "tags": []
   },
   "outputs": [
    {
     "data": {
      "text/plain": [
       "0    1.0\n",
       "1    2.0\n",
       "2    NaN\n",
       "3    4.0\n",
       "4    NaN\n",
       "dtype: float64"
      ]
     },
     "execution_count": 14,
     "metadata": {},
     "output_type": "execute_result"
    }
   ],
   "source": [
    "#series with NAs in it:\n",
    "s = pd.Series([1,2,np.NaN, 4, np.NaN])\n",
    "s"
   ]
  },
  {
   "cell_type": "markdown",
   "id": "1b4276ca-6aff-4f4d-94d4-a1b3e9c81727",
   "metadata": {},
   "source": [
    "'hasnans' = attribute of pandas series, returns True if there are any NAs:"
   ]
  },
  {
   "cell_type": "code",
   "execution_count": 16,
   "id": "60f5b7f1-17e9-4c32-b6b4-a3ef4ab33aba",
   "metadata": {
    "tags": []
   },
   "outputs": [
    {
     "data": {
      "text/plain": [
       "True"
      ]
     },
     "execution_count": 16,
     "metadata": {},
     "output_type": "execute_result"
    }
   ],
   "source": [
    "#check if our series has NAs. Very useful if you are trying to determine if you have missing data! \n",
    "s.hasnans"
   ]
  },
  {
   "cell_type": "markdown",
   "id": "f92b8be7-24bc-4e79-a9de-d0297ec9c572",
   "metadata": {},
   "source": [
    "isna() = a method of series, returns a series indicating which elements are NAs:"
   ]
  },
  {
   "cell_type": "code",
   "execution_count": 17,
   "id": "3ec87b1f-9d79-4741-931e-3e41d142e754",
   "metadata": {
    "tags": []
   },
   "outputs": [
    {
     "data": {
      "text/plain": [
       "0    False\n",
       "1    False\n",
       "2     True\n",
       "3    False\n",
       "4     True\n",
       "dtype: bool"
      ]
     },
     "execution_count": 17,
     "metadata": {},
     "output_type": "execute_result"
    }
   ],
   "source": [
    "#lets check for the items in our series to determine if they are NAs \n",
    "s.isna()"
   ]
  },
  {
   "cell_type": "markdown",
   "id": "5eb2ca7f-f53a-4a3b-91ff-c92185a1e65a",
   "metadata": {},
   "source": [
    "'bool': 'True' or 'False' are **boolean values**"
   ]
  },
  {
   "cell_type": "markdown",
   "id": "85c1befb-2be3-4474-b519-6999c07729d9",
   "metadata": {},
   "source": [
    "# Dataframes \n",
    "\n",
    "'pandas.DataFrame':\n",
    "\n",
    "-most used object in Pandas\n",
    "\n",
    "-represents tabular data (think of a spreadsheet)\n",
    "\n",
    "-each column is a 'pandas.Series'\n",
    "\n",
    "# Creating a 'pandas.DataFrame'\n",
    "*many ways of creating a dataframe*. Let's see one.\n",
    "\n",
    "Remember dictionaries? They are sets of key-value pairs:\n",
    "```\n",
    "{ key1: value1,\n",
    "key2: value2\n",
    "}\n",
    "```\n",
    "\n",
    "Think of a 'pd.DataFrame' as a dictionary where:\n",
    "\n",
    "-keys = column names\n",
    "\n",
    "-values = column values \n",
    "\n",
    "We can create a data frame like this:"
   ]
  },
  {
   "cell_type": "code",
   "execution_count": 19,
   "id": "ec24b82c-ca07-448d-99e9-7102bd323857",
   "metadata": {
    "tags": []
   },
   "outputs": [
    {
     "data": {
      "text/plain": [
       "{'col_name1': array([0, 1, 2]), 'col_name2': [3.1, 3.2, 3.3]}"
      ]
     },
     "execution_count": 19,
     "metadata": {},
     "output_type": "execute_result"
    }
   ],
   "source": [
    "#initialize dictionary with 'columns' data\n",
    "d = {'col_name1': np.arange(3), \n",
    "    'col_name2': [3.1, 3.2, 3.3]}\n",
    "d"
   ]
  },
  {
   "cell_type": "code",
   "execution_count": 21,
   "id": "b8b28204-cd53-4564-919f-08fe7b243af9",
   "metadata": {
    "tags": []
   },
   "outputs": [
    {
     "data": {
      "text/html": [
       "<div>\n",
       "<style scoped>\n",
       "    .dataframe tbody tr th:only-of-type {\n",
       "        vertical-align: middle;\n",
       "    }\n",
       "\n",
       "    .dataframe tbody tr th {\n",
       "        vertical-align: top;\n",
       "    }\n",
       "\n",
       "    .dataframe thead th {\n",
       "        text-align: right;\n",
       "    }\n",
       "</style>\n",
       "<table border=\"1\" class=\"dataframe\">\n",
       "  <thead>\n",
       "    <tr style=\"text-align: right;\">\n",
       "      <th></th>\n",
       "      <th>col_name1</th>\n",
       "      <th>col_name2</th>\n",
       "    </tr>\n",
       "  </thead>\n",
       "  <tbody>\n",
       "    <tr>\n",
       "      <th>0</th>\n",
       "      <td>0</td>\n",
       "      <td>3.1</td>\n",
       "    </tr>\n",
       "    <tr>\n",
       "      <th>1</th>\n",
       "      <td>1</td>\n",
       "      <td>3.2</td>\n",
       "    </tr>\n",
       "    <tr>\n",
       "      <th>2</th>\n",
       "      <td>2</td>\n",
       "      <td>3.3</td>\n",
       "    </tr>\n",
       "  </tbody>\n",
       "</table>\n",
       "</div>"
      ],
      "text/plain": [
       "   col_name1  col_name2\n",
       "0          0        3.1\n",
       "1          1        3.2\n",
       "2          2        3.3"
      ]
     },
     "execution_count": 21,
     "metadata": {},
     "output_type": "execute_result"
    }
   ],
   "source": [
    "#create the data frame \n",
    "df = pd.DataFrame(d)\n",
    "df"
   ]
  },
  {
   "cell_type": "markdown",
   "id": "a3db95a5-b327-4494-bf6e-18f8598d28de",
   "metadata": {},
   "source": [
    "# In-place Operations \n",
    "Let's rename the data frame's columns \n",
    "\n",
    "We can use a dtaframe **method** called 'rename'. \n",
    "'rename' takes in as an input a dictionary. Syntax looks like:\n",
    "```\n",
    "{ 'col_1_old_name': 'col_1_new_name'}\n",
    "```"
   ]
  },
  {
   "cell_type": "code",
   "execution_count": 26,
   "id": "aa810b5f-55c0-45f6-9b32-e6061d5b2ccb",
   "metadata": {
    "tags": []
   },
   "outputs": [
    {
     "data": {
      "text/html": [
       "<div>\n",
       "<style scoped>\n",
       "    .dataframe tbody tr th:only-of-type {\n",
       "        vertical-align: middle;\n",
       "    }\n",
       "\n",
       "    .dataframe tbody tr th {\n",
       "        vertical-align: top;\n",
       "    }\n",
       "\n",
       "    .dataframe thead th {\n",
       "        text-align: right;\n",
       "    }\n",
       "</style>\n",
       "<table border=\"1\" class=\"dataframe\">\n",
       "  <thead>\n",
       "    <tr style=\"text-align: right;\">\n",
       "      <th></th>\n",
       "      <th>col1</th>\n",
       "      <th>col2</th>\n",
       "    </tr>\n",
       "  </thead>\n",
       "  <tbody>\n",
       "    <tr>\n",
       "      <th>0</th>\n",
       "      <td>0</td>\n",
       "      <td>3.1</td>\n",
       "    </tr>\n",
       "    <tr>\n",
       "      <th>1</th>\n",
       "      <td>1</td>\n",
       "      <td>3.2</td>\n",
       "    </tr>\n",
       "    <tr>\n",
       "      <th>2</th>\n",
       "      <td>2</td>\n",
       "      <td>3.3</td>\n",
       "    </tr>\n",
       "  </tbody>\n",
       "</table>\n",
       "</div>"
      ],
      "text/plain": [
       "   col1  col2\n",
       "0     0   3.1\n",
       "1     1   3.2\n",
       "2     2   3.3"
      ]
     },
     "execution_count": 26,
     "metadata": {},
     "output_type": "execute_result"
    }
   ],
   "source": [
    "# Define new columns names \n",
    "col_names = {'col_name1': 'col1',\n",
    "            'col_name2': 'col2'}\n",
    "# rename using rename\n",
    "df.rename(columns = col_names)"
   ]
  },
  {
   "cell_type": "markdown",
   "id": "45a46029-d7a7-42ee-b70e-fc3dd3cb43ea",
   "metadata": {},
   "source": [
    "'df.rename()' doesn't change the column names in place. It doesn't modify the object itself. Instead, it creates a new object as an output\n",
    "\n",
    "If we want to change permanently, assign output back to dataframe to actually change it:\n"
   ]
  },
  {
   "cell_type": "code",
   "execution_count": 27,
   "id": "73d2423c-fce5-4d72-8a5c-372b284ffd2e",
   "metadata": {
    "tags": []
   },
   "outputs": [
    {
     "data": {
      "text/html": [
       "<div>\n",
       "<style scoped>\n",
       "    .dataframe tbody tr th:only-of-type {\n",
       "        vertical-align: middle;\n",
       "    }\n",
       "\n",
       "    .dataframe tbody tr th {\n",
       "        vertical-align: top;\n",
       "    }\n",
       "\n",
       "    .dataframe thead th {\n",
       "        text-align: right;\n",
       "    }\n",
       "</style>\n",
       "<table border=\"1\" class=\"dataframe\">\n",
       "  <thead>\n",
       "    <tr style=\"text-align: right;\">\n",
       "      <th></th>\n",
       "      <th>col1</th>\n",
       "      <th>col2</th>\n",
       "    </tr>\n",
       "  </thead>\n",
       "  <tbody>\n",
       "    <tr>\n",
       "      <th>0</th>\n",
       "      <td>0</td>\n",
       "      <td>3.1</td>\n",
       "    </tr>\n",
       "    <tr>\n",
       "      <th>1</th>\n",
       "      <td>1</td>\n",
       "      <td>3.2</td>\n",
       "    </tr>\n",
       "    <tr>\n",
       "      <th>2</th>\n",
       "      <td>2</td>\n",
       "      <td>3.3</td>\n",
       "    </tr>\n",
       "  </tbody>\n",
       "</table>\n",
       "</div>"
      ],
      "text/plain": [
       "   col1  col2\n",
       "0     0   3.1\n",
       "1     1   3.2\n",
       "2     2   3.3"
      ]
     },
     "execution_count": 27,
     "metadata": {},
     "output_type": "execute_result"
    }
   ],
   "source": [
    "df = df.rename(columns = col_names)\n",
    "df"
   ]
  },
  {
   "cell_type": "code",
   "execution_count": null,
   "id": "ce397eef-944c-4dfd-851d-42b4e2c43f05",
   "metadata": {},
   "outputs": [],
   "source": []
  }
 ],
 "metadata": {
  "kernelspec": {
   "display_name": "Anaconda 3 (Base)",
   "language": "python",
   "name": "base"
  },
  "language_info": {
   "codemirror_mode": {
    "name": "ipython",
    "version": 3
   },
   "file_extension": ".py",
   "mimetype": "text/x-python",
   "name": "python",
   "nbconvert_exporter": "python",
   "pygments_lexer": "ipython3",
   "version": "3.9.13"
  }
 },
 "nbformat": 4,
 "nbformat_minor": 5
}
